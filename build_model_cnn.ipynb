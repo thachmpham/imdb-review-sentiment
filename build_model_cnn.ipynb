{
 "cells": [
  {
   "cell_type": "code",
   "execution_count": 2,
   "metadata": {},
   "outputs": [],
   "source": [
    "import pandas as pd  \n",
    "import numpy as np    \n",
    "from sklearn.model_selection import train_test_split     \n",
    "from tensorflow.keras.preprocessing.text import Tokenizer  \n",
    "from tensorflow.keras.preprocessing.sequence import pad_sequences  \n",
    "from tensorflow.keras.models import Sequential     \n",
    "from tensorflow.keras.layers import Embedding, LSTM, Dense \n",
    "from tensorflow.keras.callbacks import ModelCheckpoint   \n",
    "from tensorflow.keras.models import load_model   \n",
    "import re"
   ]
  },
  {
   "attachments": {},
   "cell_type": "markdown",
   "metadata": {},
   "source": [
    "# Load data"
   ]
  },
  {
   "cell_type": "code",
   "execution_count": 4,
   "metadata": {},
   "outputs": [
    {
     "data": {
      "text/html": [
       "<div>\n",
       "<style scoped>\n",
       "    .dataframe tbody tr th:only-of-type {\n",
       "        vertical-align: middle;\n",
       "    }\n",
       "\n",
       "    .dataframe tbody tr th {\n",
       "        vertical-align: top;\n",
       "    }\n",
       "\n",
       "    .dataframe thead th {\n",
       "        text-align: right;\n",
       "    }\n",
       "</style>\n",
       "<table border=\"1\" class=\"dataframe\">\n",
       "  <thead>\n",
       "    <tr style=\"text-align: right;\">\n",
       "      <th></th>\n",
       "      <th>review</th>\n",
       "      <th>sentiment</th>\n",
       "    </tr>\n",
       "  </thead>\n",
       "  <tbody>\n",
       "    <tr>\n",
       "      <th>0</th>\n",
       "      <td>One of the other reviewers has mentioned that ...</td>\n",
       "      <td>positive</td>\n",
       "    </tr>\n",
       "    <tr>\n",
       "      <th>1</th>\n",
       "      <td>A wonderful little production. &lt;br /&gt;&lt;br /&gt;The...</td>\n",
       "      <td>positive</td>\n",
       "    </tr>\n",
       "    <tr>\n",
       "      <th>2</th>\n",
       "      <td>I thought this was a wonderful way to spend ti...</td>\n",
       "      <td>positive</td>\n",
       "    </tr>\n",
       "    <tr>\n",
       "      <th>3</th>\n",
       "      <td>Basically there's a family where a little boy ...</td>\n",
       "      <td>negative</td>\n",
       "    </tr>\n",
       "    <tr>\n",
       "      <th>4</th>\n",
       "      <td>Petter Mattei's \"Love in the Time of Money\" is...</td>\n",
       "      <td>positive</td>\n",
       "    </tr>\n",
       "  </tbody>\n",
       "</table>\n",
       "</div>"
      ],
      "text/plain": [
       "                                              review sentiment\n",
       "0  One of the other reviewers has mentioned that ...  positive\n",
       "1  A wonderful little production. <br /><br />The...  positive\n",
       "2  I thought this was a wonderful way to spend ti...  positive\n",
       "3  Basically there's a family where a little boy ...  negative\n",
       "4  Petter Mattei's \"Love in the Time of Money\" is...  positive"
      ]
     },
     "execution_count": 4,
     "metadata": {},
     "output_type": "execute_result"
    }
   ],
   "source": [
    "df = pd.read_csv('IMDB Dataset.csv')\n",
    "df.head()"
   ]
  },
  {
   "attachments": {},
   "cell_type": "markdown",
   "metadata": {},
   "source": [
    "# Preprocess data"
   ]
  },
  {
   "cell_type": "code",
   "execution_count": 6,
   "metadata": {},
   "outputs": [],
   "source": [
    "x_data = df['review']    \n",
    "y_data = df['sentiment']  \n",
    "\n",
    "x_data = x_data.replace({'<.*?>': ''}, regex = True)          \n",
    "x_data = x_data.replace({'[^A-Za-z]': ' '}, regex = True)     \n",
    "x_data = x_data.apply(lambda review: [w.lower() for w in review])  \n",
    "\n",
    "y_data = y_data.replace('positive', 1)\n",
    "y_data = y_data.replace('negative', 0)"
   ]
  },
  {
   "cell_type": "code",
   "execution_count": 7,
   "metadata": {},
   "outputs": [
    {
     "name": "stdout",
     "output_type": "stream",
     "text": [
      "Train Set\n",
      "20336    [a, c, t, u, a, l, l, y,  , i,  , m,  , s, u, ...\n",
      "8500     [t, h, i, s,  , m, o, v, i, e,  , i,  , v, e, ...\n",
      "34545    [m, y,  , w, i, f, e,  , a, n, d,  , i,  , e, ...\n",
      "24651    [t, h, e,  , a, c, c, o, u, n, t, s,  , s, e, ...\n",
      "4843     [t, i, m, e,  , a, n, d,  , t, i, m, e,  , a, ...\n",
      "                               ...                        \n",
      "37764    [w, h, i, l, e,  , n, o, t,  , a, s,  , b, a, ...\n",
      "16512    [i,  , f, i, r, s, t,  , s, a, w,  , a,  , p, ...\n",
      "18770    [i,  , w, a, s,  , s, o,  , l, o, o, k, i, n, ...\n",
      "45047    [t, h, e,  , o, r, i, g, i, n, a, l,  , d, e, ...\n",
      "45640    [w, h, a, t,  , a,  , s, h, a, m, e,  , t, h, ...\n",
      "Name: review, Length: 40000, dtype: object \n",
      "\n",
      "6314     [i,  , d, o, n,  , t,  , l, i, k, e,  , s, e, ...\n",
      "48750    [i,  , s, a, w,  , t, h, e,  , f, i, l, m,  , ...\n",
      "8199     [t, h, e, r, e,  , a, r, e,  , s, i, m, i, l, ...\n",
      "26910    [i,  , s, a, w,  , c, h, a, n,  , i, s,  , m, ...\n",
      "29595    [m, i, l, d,  , s, p, o, i, l, e, r, s, i, n, ...\n",
      "                               ...                        \n",
      "43365    [i, t, s,  , a,  , s, p, a, c, e,  , f, l, i, ...\n",
      "44376    [ , t, h, e,  , o, d, d,  , c, o, u, p, l, e, ...\n",
      "33314    [s, h, a, g, g, y,  ,  ,  , s, c, o, o, b, y, ...\n",
      "26506    [t, h, i, s,  , i, s,  , o, n, e,  , o, f,  , ...\n",
      "32355    [a, t,  , t, h, e,  , t, i, m, e,  , o, f,  , ...\n",
      "Name: review, Length: 10000, dtype: object \n",
      "\n",
      "Test Set\n",
      "20336    1\n",
      "8500     1\n",
      "34545    0\n",
      "24651    1\n",
      "4843     1\n",
      "        ..\n",
      "37764    0\n",
      "16512    0\n",
      "18770    0\n",
      "45047    1\n",
      "45640    0\n",
      "Name: sentiment, Length: 40000, dtype: int64 \n",
      "\n",
      "6314     0\n",
      "48750    0\n",
      "8199     0\n",
      "26910    0\n",
      "29595    1\n",
      "        ..\n",
      "43365    0\n",
      "44376    1\n",
      "33314    0\n",
      "26506    0\n",
      "32355    1\n",
      "Name: sentiment, Length: 10000, dtype: int64\n"
     ]
    }
   ],
   "source": [
    "x_train, x_test, y_train, y_test = train_test_split(x_data, y_data, test_size = 0.2)\n",
    "\n",
    "print('Train Set')\n",
    "print(x_train, '\\n')\n",
    "print(x_test, '\\n')\n",
    "print('Test Set')\n",
    "print(y_train, '\\n')\n",
    "print(y_test)"
   ]
  },
  {
   "attachments": {},
   "cell_type": "markdown",
   "metadata": {},
   "source": [
    "# Tokenize data"
   ]
  },
  {
   "cell_type": "code",
   "execution_count": 12,
   "metadata": {},
   "outputs": [],
   "source": [
    "review_length = [len(x) for x in x_train]\n",
    "max_length = int(np.ceil(np.mean(review_length)))"
   ]
  },
  {
   "cell_type": "code",
   "execution_count": 13,
   "metadata": {},
   "outputs": [
    {
     "name": "stdout",
     "output_type": "stream",
     "text": [
      "Encoded X Train\n",
      " [[ 4 13  3 ...  0  0  0]\n",
      " [ 3 10  5 ...  0  0  0]\n",
      " [14 18  1 ...  0  0  0]\n",
      " ...\n",
      " [ 5  1 19 ...  0  0  0]\n",
      " [ 3 10  2 ...  0  0  0]\n",
      " [19 10  4 ...  8  1 14]] \n",
      "\n",
      "Encoded X Test\n",
      " [[ 5  1 12 ...  0  0  0]\n",
      " [ 5  1  7 ...  0  0  0]\n",
      " [ 3 10  2 ... 12  2  7]\n",
      " ...\n",
      " [ 7 10  4 ...  0  0  0]\n",
      " [ 3 10  5 ...  0  0  0]\n",
      " [ 4  3  1 ...  0  0  0]] \n",
      "\n",
      "Maximum review length:  1288\n"
     ]
    }
   ],
   "source": [
    "token = Tokenizer(lower=False)\n",
    "token.fit_on_texts(x_train)\n",
    "x_train = token.texts_to_sequences(x_train)\n",
    "x_test = token.texts_to_sequences(x_test)\n",
    "\n",
    "x_train = pad_sequences(x_train, maxlen=max_length, padding='post', truncating='post')\n",
    "x_test = pad_sequences(x_test, maxlen=max_length, padding='post', truncating='post')\n",
    "\n",
    "total_words = len(token.word_index) + 1\n",
    "\n",
    "print('Encoded X Train\\n', x_train, '\\n')\n",
    "print('Encoded X Test\\n', x_test, '\\n')\n",
    "print('Maximum review length: ', max_length)"
   ]
  },
  {
   "attachments": {},
   "cell_type": "markdown",
   "metadata": {},
   "source": [
    "# Build model"
   ]
  },
  {
   "cell_type": "code",
   "execution_count": 14,
   "metadata": {},
   "outputs": [
    {
     "name": "stdout",
     "output_type": "stream",
     "text": [
      "Metal device set to: Apple M2\n",
      "\n",
      "systemMemory: 16.00 GB\n",
      "maxCacheSize: 5.33 GB\n",
      "\n",
      "Model: \"sequential\"\n",
      "_________________________________________________________________\n",
      " Layer (type)                Output Shape              Param #   \n",
      "=================================================================\n",
      " embedding (Embedding)       (None, 1288, 32)          896       \n",
      "                                                                 \n",
      " lstm (LSTM)                 (None, 64)                24832     \n",
      "                                                                 \n",
      " dense (Dense)               (None, 1)                 65        \n",
      "                                                                 \n",
      "=================================================================\n",
      "Total params: 25,793\n",
      "Trainable params: 25,793\n",
      "Non-trainable params: 0\n",
      "_________________________________________________________________\n",
      "None\n"
     ]
    }
   ],
   "source": [
    "EMBED_DIM = 32\n",
    "LSTM_OUT = 64\n",
    "\n",
    "model = Sequential()\n",
    "model.add(Embedding(total_words, EMBED_DIM, input_length = max_length))\n",
    "model.add(LSTM(LSTM_OUT))\n",
    "model.add(Dense(1, activation='sigmoid'))\n",
    "model.compile(optimizer = 'adam', loss = 'binary_crossentropy', metrics = ['accuracy'])\n",
    "\n",
    "print(model.summary())"
   ]
  },
  {
   "cell_type": "code",
   "execution_count": 15,
   "metadata": {},
   "outputs": [
    {
     "name": "stdout",
     "output_type": "stream",
     "text": [
      "Epoch 1/5\n"
     ]
    },
    {
     "name": "stderr",
     "output_type": "stream",
     "text": [
      "2023-05-14 17:24:23.330262: W tensorflow/tsl/platform/profile_utils/cpu_utils.cc:128] Failed to get CPU frequency: 0 Hz\n"
     ]
    },
    {
     "name": "stdout",
     "output_type": "stream",
     "text": [
      "313/313 [==============================] - 58s 182ms/step - loss: 0.6933 - accuracy: 0.5021\n",
      "Epoch 2/5\n",
      "313/313 [==============================] - 58s 185ms/step - loss: 0.6931 - accuracy: 0.5045\n",
      "Epoch 3/5\n",
      "313/313 [==============================] - 58s 184ms/step - loss: 0.6932 - accuracy: 0.5011\n",
      "Epoch 4/5\n",
      "313/313 [==============================] - 58s 186ms/step - loss: 0.6929 - accuracy: 0.5039\n",
      "Epoch 5/5\n",
      "313/313 [==============================] - 58s 184ms/step - loss: 0.6931 - accuracy: 0.5093\n"
     ]
    },
    {
     "data": {
      "text/plain": [
       "<keras.callbacks.History at 0x176e34f40>"
      ]
     },
     "execution_count": 15,
     "metadata": {},
     "output_type": "execute_result"
    }
   ],
   "source": [
    "model.fit(x_train, y_train, batch_size = 128, epochs = 5)"
   ]
  },
  {
   "attachments": {},
   "cell_type": "markdown",
   "metadata": {},
   "source": [
    "# Evaluate Model"
   ]
  },
  {
   "cell_type": "code",
   "execution_count": 16,
   "metadata": {},
   "outputs": [
    {
     "name": "stdout",
     "output_type": "stream",
     "text": [
      "313/313 [==============================] - 10s 31ms/step\n"
     ]
    }
   ],
   "source": [
    "y_pred = model.predict(x_test)"
   ]
  },
  {
   "cell_type": "code",
   "execution_count": 18,
   "metadata": {},
   "outputs": [],
   "source": [
    "y_pred = [0 if x < 0.5 else 1 for x in y_pred]"
   ]
  },
  {
   "cell_type": "code",
   "execution_count": 21,
   "metadata": {},
   "outputs": [
    {
     "data": {
      "text/plain": [
       "0.9547"
      ]
     },
     "execution_count": 21,
     "metadata": {},
     "output_type": "execute_result"
    }
   ],
   "source": [
    "accuracy = y_pred.count(1)/len(y_pred)\n",
    "accuracy"
   ]
  }
 ],
 "metadata": {
  "kernelspec": {
   "display_name": "Python 3",
   "language": "python",
   "name": "python3"
  },
  "language_info": {
   "codemirror_mode": {
    "name": "ipython",
    "version": 3
   },
   "file_extension": ".py",
   "mimetype": "text/x-python",
   "name": "python",
   "nbconvert_exporter": "python",
   "pygments_lexer": "ipython3",
   "version": "3.9.6"
  },
  "orig_nbformat": 4
 },
 "nbformat": 4,
 "nbformat_minor": 2
}
